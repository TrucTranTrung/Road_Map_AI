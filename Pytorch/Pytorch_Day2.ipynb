{
  "nbformat": 4,
  "nbformat_minor": 0,
  "metadata": {
    "colab": {
      "provenance": []
    },
    "kernelspec": {
      "name": "python3",
      "display_name": "Python 3"
    },
    "language_info": {
      "name": "python"
    }
  },
  "cells": [
    {
      "cell_type": "markdown",
      "source": [
        "### **Pytorch Fundamental**"
      ],
      "metadata": {
        "id": "BKEuF_7HrTJx"
      }
    },
    {
      "cell_type": "code",
      "execution_count": 32,
      "metadata": {
        "colab": {
          "base_uri": "https://localhost:8080/"
        },
        "id": "GeWJ-tnslXTc",
        "outputId": "aebe46c0-e4ef-47e1-b150-6ebf993a3e8b"
      },
      "outputs": [
        {
          "output_type": "stream",
          "name": "stdout",
          "text": [
            "/bin/bash: line 1: nvidia-smi: command not found\n"
          ]
        }
      ],
      "source": [
        "!nvidia-smi"
      ]
    },
    {
      "cell_type": "code",
      "source": [
        "import torch\n",
        "import numpy as np\n",
        "import pandas as pd\n",
        "import matplotlib.pyplot as plt\n",
        "print(torch.__version__)"
      ],
      "metadata": {
        "colab": {
          "base_uri": "https://localhost:8080/"
        },
        "id": "S4L9-Omerjf2",
        "outputId": "b53c493e-4c67-41d2-f830-a47983c5302c"
      },
      "execution_count": 33,
      "outputs": [
        {
          "output_type": "stream",
          "name": "stdout",
          "text": [
            "2.3.1+cu121\n"
          ]
        }
      ]
    },
    {
      "cell_type": "markdown",
      "source": [
        "## **Day 2**"
      ],
      "metadata": {
        "id": "fHBAGDca7l7p"
      }
    },
    {
      "cell_type": "code",
      "source": [
        "#create random tensor\n",
        "random_tensor=torch.rand(10,10)\n",
        "random_tensor"
      ],
      "metadata": {
        "colab": {
          "base_uri": "https://localhost:8080/"
        },
        "id": "DSWE17-47oPv",
        "outputId": "5e4c7782-403f-42a5-e7cf-551a814f4c9e"
      },
      "execution_count": 10,
      "outputs": [
        {
          "output_type": "execute_result",
          "data": {
            "text/plain": [
              "tensor([[0.9733, 0.0801, 0.3447, 0.3709, 0.1533, 0.6518, 0.0293, 0.2791, 0.6486,\n",
              "         0.9532],\n",
              "        [0.9108, 0.1624, 0.9237, 0.4690, 0.8108, 0.2340, 0.2409, 0.1902, 0.4304,\n",
              "         0.1709],\n",
              "        [0.4321, 0.2482, 0.3776, 0.9389, 0.9967, 0.7429, 0.2680, 0.3744, 0.6312,\n",
              "         0.8790],\n",
              "        [0.0568, 0.3674, 0.1073, 0.4396, 0.3377, 0.6328, 0.9071, 0.9633, 0.2328,\n",
              "         0.0594],\n",
              "        [0.0401, 0.4830, 0.8854, 0.3460, 0.6533, 0.2788, 0.1336, 0.8160, 0.5906,\n",
              "         0.7470],\n",
              "        [0.6640, 0.7743, 0.6329, 0.4310, 0.2873, 0.0266, 0.5160, 0.0845, 0.4747,\n",
              "         0.1145],\n",
              "        [0.5901, 0.0604, 0.8011, 0.2395, 0.4076, 0.7639, 0.3970, 0.8272, 0.9410,\n",
              "         0.6796],\n",
              "        [0.1032, 0.3156, 0.7946, 0.5590, 0.9601, 0.5382, 0.5868, 0.1270, 0.8588,\n",
              "         0.0322],\n",
              "        [0.1482, 0.4691, 0.4048, 0.8635, 0.6013, 0.5769, 0.3767, 0.9175, 0.8499,\n",
              "         0.1538],\n",
              "        [0.2741, 0.2954, 0.7930, 0.6364, 0.6186, 0.1879, 0.2439, 0.7765, 0.3696,\n",
              "         0.4789]])"
            ]
          },
          "metadata": {},
          "execution_count": 10
        }
      ]
    },
    {
      "cell_type": "code",
      "source": [
        "random_image_size=torch.rand(size=(224,224,3))\n",
        "random_image_size"
      ],
      "metadata": {
        "colab": {
          "base_uri": "https://localhost:8080/"
        },
        "id": "OOV4uag_9ZZt",
        "outputId": "6f2d0389-70cf-4197-c6f3-14b2ad48efa4"
      },
      "execution_count": 11,
      "outputs": [
        {
          "output_type": "execute_result",
          "data": {
            "text/plain": [
              "tensor([[[0.5035, 0.7054, 0.5971],\n",
              "         [0.0413, 0.9511, 0.9592],\n",
              "         [0.9798, 0.6390, 0.8610],\n",
              "         ...,\n",
              "         [0.5644, 0.1387, 0.4080],\n",
              "         [0.3820, 0.0837, 0.0759],\n",
              "         [0.9364, 0.1211, 0.6717]],\n",
              "\n",
              "        [[0.9886, 0.6246, 0.4577],\n",
              "         [0.7775, 0.1386, 0.8818],\n",
              "         [0.8321, 0.9354, 0.6158],\n",
              "         ...,\n",
              "         [0.4036, 0.1016, 0.6741],\n",
              "         [0.2096, 0.9674, 0.1138],\n",
              "         [0.0718, 0.2581, 0.5103]],\n",
              "\n",
              "        [[0.6739, 0.2475, 0.5586],\n",
              "         [0.4554, 0.8355, 0.7025],\n",
              "         [0.5418, 0.3275, 0.4744],\n",
              "         ...,\n",
              "         [0.1824, 0.9944, 0.8184],\n",
              "         [0.7083, 0.6879, 0.5734],\n",
              "         [0.9117, 0.1398, 0.9021]],\n",
              "\n",
              "        ...,\n",
              "\n",
              "        [[0.8538, 0.4729, 0.2731],\n",
              "         [0.5070, 0.8783, 0.3071],\n",
              "         [0.4114, 0.6681, 0.4808],\n",
              "         ...,\n",
              "         [0.8527, 0.9266, 0.2348],\n",
              "         [0.1421, 0.6928, 0.3494],\n",
              "         [0.9180, 0.5167, 0.8410]],\n",
              "\n",
              "        [[0.3331, 0.6430, 0.0792],\n",
              "         [0.2537, 0.8576, 0.2860],\n",
              "         [0.3758, 0.9794, 0.9634],\n",
              "         ...,\n",
              "         [0.8916, 0.3757, 0.8100],\n",
              "         [0.3877, 0.2620, 0.8059],\n",
              "         [0.8225, 0.0340, 0.4916]],\n",
              "\n",
              "        [[0.8411, 0.4154, 0.3318],\n",
              "         [0.1012, 0.2410, 0.8878],\n",
              "         [0.5164, 0.1314, 0.8744],\n",
              "         ...,\n",
              "         [0.8490, 0.4482, 0.1641],\n",
              "         [0.0837, 0.3661, 0.6526],\n",
              "         [0.3062, 0.3026, 0.9464]]])"
            ]
          },
          "metadata": {},
          "execution_count": 11
        }
      ]
    },
    {
      "cell_type": "code",
      "source": [
        "#create zeros matrix\n",
        "zeros=torch.zeros(size=(3,4))\n",
        "zeros"
      ],
      "metadata": {
        "colab": {
          "base_uri": "https://localhost:8080/"
        },
        "id": "_mDm5k26BYmW",
        "outputId": "07d737d2-7fa5-43a3-8032-7de8ac2bdfd2"
      },
      "execution_count": 12,
      "outputs": [
        {
          "output_type": "execute_result",
          "data": {
            "text/plain": [
              "tensor([[0., 0., 0., 0.],\n",
              "        [0., 0., 0., 0.],\n",
              "        [0., 0., 0., 0.]])"
            ]
          },
          "metadata": {},
          "execution_count": 12
        }
      ]
    },
    {
      "cell_type": "code",
      "source": [
        "#ones matrix\n",
        "one=torch.ones(size=(3,4))\n",
        "one"
      ],
      "metadata": {
        "colab": {
          "base_uri": "https://localhost:8080/"
        },
        "id": "PN1_tsu2BdOh",
        "outputId": "22e7d5df-884a-4d80-a8d6-8bec39d09359"
      },
      "execution_count": 13,
      "outputs": [
        {
          "output_type": "execute_result",
          "data": {
            "text/plain": [
              "tensor([[1., 1., 1., 1.],\n",
              "        [1., 1., 1., 1.],\n",
              "        [1., 1., 1., 1.]])"
            ]
          },
          "metadata": {},
          "execution_count": 13
        }
      ]
    },
    {
      "cell_type": "code",
      "source": [
        "#Range\n",
        "zero_to_ten=torch.arange(start=0,end=11, step=1)\n",
        "zero_to_ten"
      ],
      "metadata": {
        "colab": {
          "base_uri": "https://localhost:8080/"
        },
        "id": "QULVOsgECmIa",
        "outputId": "e9ae6704-e90b-45c8-cb85-4139b18a89d1"
      },
      "execution_count": 14,
      "outputs": [
        {
          "output_type": "execute_result",
          "data": {
            "text/plain": [
              "tensor([ 0,  1,  2,  3,  4,  5,  6,  7,  8,  9, 10])"
            ]
          },
          "metadata": {},
          "execution_count": 14
        }
      ]
    },
    {
      "cell_type": "code",
      "source": [
        "#tensor_like\n",
        "ten_zeros=torch.zeros_like(input=zero_to_ten)\n",
        "ten_zeros"
      ],
      "metadata": {
        "colab": {
          "base_uri": "https://localhost:8080/"
        },
        "id": "puPN9IKMDflH",
        "outputId": "3b86c332-884b-4990-dd74-98d9390964f1"
      },
      "execution_count": 15,
      "outputs": [
        {
          "output_type": "execute_result",
          "data": {
            "text/plain": [
              "tensor([0, 0, 0, 0, 0, 0, 0, 0, 0, 0, 0])"
            ]
          },
          "metadata": {},
          "execution_count": 15
        }
      ]
    },
    {
      "cell_type": "code",
      "source": [
        "#float32_tensor\n",
        "float_32_tensor=torch.tensor([3.0,6.0,9.0],\n",
        "                              dtype=None,\n",
        "                              device=None,\n",
        "                              requires_grad=False)\n",
        "float_32_tensor.dtype"
      ],
      "metadata": {
        "colab": {
          "base_uri": "https://localhost:8080/"
        },
        "id": "f5P86p9aFsnD",
        "outputId": "e2f43385-d5d2-40ae-dabb-d4a4f04ecbda"
      },
      "execution_count": 23,
      "outputs": [
        {
          "output_type": "execute_result",
          "data": {
            "text/plain": [
              "torch.float32"
            ]
          },
          "metadata": {},
          "execution_count": 23
        }
      ]
    },
    {
      "cell_type": "code",
      "source": [
        "float_16=float_32_tensor.type(torch.float16)\n",
        "float_16"
      ],
      "metadata": {
        "colab": {
          "base_uri": "https://localhost:8080/"
        },
        "id": "ixx0elwuG9Sm",
        "outputId": "13874110-adaf-4e11-f628-1c2885d1c658"
      },
      "execution_count": 24,
      "outputs": [
        {
          "output_type": "execute_result",
          "data": {
            "text/plain": [
              "tensor([3., 6., 9.], dtype=torch.float16)"
            ]
          },
          "metadata": {},
          "execution_count": 24
        }
      ]
    },
    {
      "cell_type": "code",
      "source": [
        "mul=float_16*float_32_tensor\n",
        "mul.dtype"
      ],
      "metadata": {
        "colab": {
          "base_uri": "https://localhost:8080/"
        },
        "id": "bzVSU8rhIPTr",
        "outputId": "46547230-6ba3-4e79-8bae-eb84c1321922"
      },
      "execution_count": 27,
      "outputs": [
        {
          "output_type": "execute_result",
          "data": {
            "text/plain": [
              "torch.float32"
            ]
          },
          "metadata": {},
          "execution_count": 27
        }
      ]
    },
    {
      "cell_type": "code",
      "source": [
        "int32=torch.tensor([3,6,9], dtype=torch.int32)\n",
        "mul=int32*float_32_tensor\n",
        "mul"
      ],
      "metadata": {
        "colab": {
          "base_uri": "https://localhost:8080/"
        },
        "id": "NJf3jG1sJITG",
        "outputId": "ef8a5dcb-f149-4803-c68d-3881c2acd180"
      },
      "execution_count": 30,
      "outputs": [
        {
          "output_type": "execute_result",
          "data": {
            "text/plain": [
              "tensor([ 9., 36., 81.])"
            ]
          },
          "metadata": {},
          "execution_count": 30
        }
      ]
    },
    {
      "cell_type": "code",
      "source": [
        "# Manipulating Tensors\n",
        "\n",
        "# Addittion\n",
        "tensor=torch.tensor([1,2,3])\n",
        "print(f\"Add: {tensor+10}\")\n",
        "add=torch.add(tensor,10)\n",
        "print(f\"Add Function: {add}\")\n",
        "\n",
        "# Multiply Tensor\n",
        "print(f\"Multiply : {tensor*2}\")\n",
        "mul=torch.mul(tensor,10)\n",
        "print(f\"Multiply function: {mul}\")\n",
        "\n",
        "# Substract\n",
        "print(f\"Substract: {tensor-1}\")\n",
        "sub=torch.sub(tensor,1)\n",
        "print(f\"Sub Function: {sub}\")\n",
        "\n",
        "# Division\n",
        "print(f\"Division: {tensor/2}\")\n",
        "div=torch.div(tensor,2)\n",
        "print(f\"Division Function: {div}\")"
      ],
      "metadata": {
        "colab": {
          "base_uri": "https://localhost:8080/"
        },
        "id": "ANPi37IuLJ5t",
        "outputId": "16e501b7-725c-445d-f384-7cc72bc21510"
      },
      "execution_count": 49,
      "outputs": [
        {
          "output_type": "stream",
          "name": "stdout",
          "text": [
            "Add: tensor([11, 12, 13])\n",
            "Add Function: tensor([11, 12, 13])\n",
            "Multiply : tensor([2, 4, 6])\n",
            "Multiply function: tensor([10, 20, 30])\n",
            "Substract: tensor([0, 1, 2])\n",
            "Sub Function: tensor([0, 1, 2])\n",
            "Division: tensor([0.5000, 1.0000, 1.5000])\n",
            "Division Function: tensor([0.5000, 1.0000, 1.5000])\n"
          ]
        }
      ]
    },
    {
      "cell_type": "code",
      "source": [
        "# Slot Wise\n",
        "print(tensor, \"*\", tensor)\n",
        "print(f\"Mul Slot Wise: {tensor*tensor}\")\n",
        "\n",
        "# Matrix Multiply\n",
        "print(f\"Multiply: {torch.matmul(tensor,tensor)}\")"
      ],
      "metadata": {
        "colab": {
          "base_uri": "https://localhost:8080/"
        },
        "id": "98Nekm2POPjE",
        "outputId": "79578dae-7c7e-4365-8c4f-f3bf256cdf41"
      },
      "execution_count": 55,
      "outputs": [
        {
          "output_type": "stream",
          "name": "stdout",
          "text": [
            "tensor([1, 2, 3]) * tensor([1, 2, 3])\n",
            "Mul Slot Wise: tensor([1, 4, 9])\n",
            "Multiply: 14\n"
          ]
        }
      ]
    }
  ]
}