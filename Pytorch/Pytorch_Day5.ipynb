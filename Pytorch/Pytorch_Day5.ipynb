{
  "nbformat": 4,
  "nbformat_minor": 0,
  "metadata": {
    "colab": {
      "provenance": [],
      "gpuType": "T4"
    },
    "kernelspec": {
      "name": "python3",
      "display_name": "Python 3"
    },
    "language_info": {
      "name": "python"
    },
    "accelerator": "GPU"
  },
  "cells": [
    {
      "cell_type": "markdown",
      "source": [
        "### **Pytorch Fundamental**"
      ],
      "metadata": {
        "id": "BKEuF_7HrTJx"
      }
    },
    {
      "cell_type": "code",
      "execution_count": 38,
      "metadata": {
        "colab": {
          "base_uri": "https://localhost:8080/"
        },
        "id": "GeWJ-tnslXTc",
        "outputId": "0ad62526-2dff-456f-888b-cf846a54bf22"
      },
      "outputs": [
        {
          "output_type": "stream",
          "name": "stdout",
          "text": [
            "Wed Sep 11 16:20:19 2024       \n",
            "+---------------------------------------------------------------------------------------+\n",
            "| NVIDIA-SMI 535.104.05             Driver Version: 535.104.05   CUDA Version: 12.2     |\n",
            "|-----------------------------------------+----------------------+----------------------+\n",
            "| GPU  Name                 Persistence-M | Bus-Id        Disp.A | Volatile Uncorr. ECC |\n",
            "| Fan  Temp   Perf          Pwr:Usage/Cap |         Memory-Usage | GPU-Util  Compute M. |\n",
            "|                                         |                      |               MIG M. |\n",
            "|=========================================+======================+======================|\n",
            "|   0  Tesla T4                       Off | 00000000:00:04.0 Off |                    0 |\n",
            "| N/A   63C    P0              30W /  70W |    151MiB / 15360MiB |      0%      Default |\n",
            "|                                         |                      |                  N/A |\n",
            "+-----------------------------------------+----------------------+----------------------+\n",
            "                                                                                         \n",
            "+---------------------------------------------------------------------------------------+\n",
            "| Processes:                                                                            |\n",
            "|  GPU   GI   CI        PID   Type   Process name                            GPU Memory |\n",
            "|        ID   ID                                                             Usage      |\n",
            "|=======================================================================================|\n",
            "+---------------------------------------------------------------------------------------+\n"
          ]
        }
      ],
      "source": [
        "!nvidia-smi"
      ]
    },
    {
      "cell_type": "code",
      "source": [
        "import torch\n",
        "import numpy as np\n",
        "import pandas as pd\n",
        "import matplotlib.pyplot as plt\n",
        "print(torch.__version__)"
      ],
      "metadata": {
        "colab": {
          "base_uri": "https://localhost:8080/"
        },
        "id": "S4L9-Omerjf2",
        "outputId": "a9fa9a9f-f242-4c5f-d9c0-7fc3e6bfbdb7"
      },
      "execution_count": 39,
      "outputs": [
        {
          "output_type": "stream",
          "name": "stdout",
          "text": [
            "2.4.0+cu121\n"
          ]
        }
      ]
    },
    {
      "cell_type": "code",
      "source": [
        "torch.cuda.is_available()"
      ],
      "metadata": {
        "colab": {
          "base_uri": "https://localhost:8080/"
        },
        "id": "npvGzqndpTct",
        "outputId": "f692397c-1638-4025-e968-b683f4dd64a2"
      },
      "execution_count": 40,
      "outputs": [
        {
          "output_type": "execute_result",
          "data": {
            "text/plain": [
              "True"
            ]
          },
          "metadata": {},
          "execution_count": 40
        }
      ]
    },
    {
      "cell_type": "code",
      "source": [
        "device= \"cuda\" if torch.cuda.is_available() else \"cpu\"\n",
        "device"
      ],
      "metadata": {
        "colab": {
          "base_uri": "https://localhost:8080/",
          "height": 36
        },
        "id": "0dlKxFvCpyHe",
        "outputId": "507f42d4-8b93-4cfb-f09d-46b39d156d23"
      },
      "execution_count": 41,
      "outputs": [
        {
          "output_type": "execute_result",
          "data": {
            "text/plain": [
              "'cuda'"
            ],
            "application/vnd.google.colaboratory.intrinsic+json": {
              "type": "string"
            }
          },
          "metadata": {},
          "execution_count": 41
        }
      ]
    },
    {
      "cell_type": "code",
      "source": [
        "torch.cuda.device_count()"
      ],
      "metadata": {
        "colab": {
          "base_uri": "https://localhost:8080/"
        },
        "id": "XIZ29wtDqwHF",
        "outputId": "396c366e-c15f-470c-d7dc-b5917020f82a"
      },
      "execution_count": 42,
      "outputs": [
        {
          "output_type": "execute_result",
          "data": {
            "text/plain": [
              "1"
            ]
          },
          "metadata": {},
          "execution_count": 42
        }
      ]
    },
    {
      "cell_type": "markdown",
      "source": [
        "## **Day 5**"
      ],
      "metadata": {
        "id": "fHBAGDca7l7p"
      }
    },
    {
      "cell_type": "code",
      "source": [
        "tensor =torch.tensor([1,2,3])\n",
        "print(tensor, tensor.device)"
      ],
      "metadata": {
        "colab": {
          "base_uri": "https://localhost:8080/"
        },
        "id": "FlgTR85XSUaf",
        "outputId": "83958e43-2e26-460a-9ea9-cfb6b8e881c6"
      },
      "execution_count": 43,
      "outputs": [
        {
          "output_type": "stream",
          "name": "stdout",
          "text": [
            "tensor([1, 2, 3]) cpu\n"
          ]
        }
      ]
    },
    {
      "cell_type": "code",
      "source": [
        "tensor_on_gpu=tensor.to(device)\n",
        "tensor_on_gpu"
      ],
      "metadata": {
        "colab": {
          "base_uri": "https://localhost:8080/"
        },
        "id": "lm0SpqRBrtMq",
        "outputId": "d7031e66-af2c-49d4-b343-b3a011d8c8c8"
      },
      "execution_count": 44,
      "outputs": [
        {
          "output_type": "execute_result",
          "data": {
            "text/plain": [
              "tensor([1, 2, 3], device='cuda:0')"
            ]
          },
          "metadata": {},
          "execution_count": 44
        }
      ]
    },
    {
      "cell_type": "code",
      "source": [
        "tensor_back_on_cpu= tensor_on_gpu.cpu().numpy()\n",
        "tensor_back_on_cpu"
      ],
      "metadata": {
        "colab": {
          "base_uri": "https://localhost:8080/"
        },
        "id": "8LR-8pkrscZu",
        "outputId": "fca9af8d-a067-46f1-e8c0-ebcaefbd723a"
      },
      "execution_count": 45,
      "outputs": [
        {
          "output_type": "execute_result",
          "data": {
            "text/plain": [
              "array([1, 2, 3])"
            ]
          },
          "metadata": {},
          "execution_count": 45
        }
      ]
    },
    {
      "cell_type": "markdown",
      "source": [
        "## **Exercise**"
      ],
      "metadata": {
        "id": "RoLfZYiwt-w2"
      }
    },
    {
      "cell_type": "code",
      "source": [
        "#create random tensor with shape (7,7)\n",
        "tensor_rand=torch.rand(7,7)\n",
        "tensor_rand"
      ],
      "metadata": {
        "colab": {
          "base_uri": "https://localhost:8080/"
        },
        "id": "idOjk9iKuEEg",
        "outputId": "12bba4f3-e4f5-4cef-999f-20390486d871"
      },
      "execution_count": 46,
      "outputs": [
        {
          "output_type": "execute_result",
          "data": {
            "text/plain": [
              "tensor([[0.5349, 0.1988, 0.6592, 0.6569, 0.2328, 0.4251, 0.2071],\n",
              "        [0.6297, 0.3653, 0.8513, 0.8549, 0.5509, 0.2868, 0.2063],\n",
              "        [0.4451, 0.3593, 0.7204, 0.0731, 0.9699, 0.1078, 0.8829],\n",
              "        [0.4132, 0.7572, 0.6948, 0.5209, 0.5932, 0.8797, 0.6286],\n",
              "        [0.7653, 0.1132, 0.8559, 0.6721, 0.6267, 0.5691, 0.7437],\n",
              "        [0.9592, 0.3887, 0.2214, 0.3742, 0.1953, 0.7405, 0.2529],\n",
              "        [0.2332, 0.9314, 0.9575, 0.5575, 0.4134, 0.4355, 0.7369]])"
            ]
          },
          "metadata": {},
          "execution_count": 46
        }
      ]
    },
    {
      "cell_type": "code",
      "source": [
        "#multiply\n",
        "tensor_17=torch.rand(1,7)\n",
        "mul=torch.matmul(tensor_rand, tensor_17.T)\n",
        "mul, mul.shape"
      ],
      "metadata": {
        "colab": {
          "base_uri": "https://localhost:8080/"
        },
        "id": "2pGIJREkuegN",
        "outputId": "a5bd2e66-4bbf-4c07-b5bc-59249a9e4085"
      },
      "execution_count": 47,
      "outputs": [
        {
          "output_type": "execute_result",
          "data": {
            "text/plain": [
              "(tensor([[1.5419],\n",
              "         [2.0645],\n",
              "         [1.6890],\n",
              "         [1.9196],\n",
              "         [2.2098],\n",
              "         [0.9377],\n",
              "         [2.1266]]),\n",
              " torch.Size([7, 1]))"
            ]
          },
          "metadata": {},
          "execution_count": 47
        }
      ]
    },
    {
      "cell_type": "code",
      "source": [
        "#Random_seed=0\n",
        "random_seed=0\n",
        "generator = torch.Generator().manual_seed(random_seed) #*\n",
        "tensor_rand=torch.rand((7,7))\n",
        "tensor_rand"
      ],
      "metadata": {
        "colab": {
          "base_uri": "https://localhost:8080/"
        },
        "id": "26jrwIgSuxZ0",
        "outputId": "f40d9e2b-5dc3-48aa-c83d-6c23e046ae3c"
      },
      "execution_count": 48,
      "outputs": [
        {
          "output_type": "execute_result",
          "data": {
            "text/plain": [
              "tensor([[0.2674, 0.4990, 0.7447, 0.7213, 0.4414, 0.5550, 0.6361],\n",
              "        [0.1081, 0.3305, 0.5196, 0.2147, 0.2816, 0.6679, 0.7878],\n",
              "        [0.5070, 0.3055, 0.7738, 0.2259, 0.3826, 0.9717, 0.5921],\n",
              "        [0.5352, 0.6686, 0.3781, 0.9278, 0.0922, 0.3625, 0.4136],\n",
              "        [0.2943, 0.3762, 0.8099, 0.7743, 0.5278, 0.9356, 0.1470],\n",
              "        [0.2019, 0.7259, 0.4731, 0.0444, 0.1539, 0.1956, 0.8861],\n",
              "        [0.7264, 0.8868, 0.1278, 0.0125, 0.1721, 0.5535, 0.4012]])"
            ]
          },
          "metadata": {},
          "execution_count": 48
        }
      ]
    },
    {
      "cell_type": "code",
      "source": [
        "tensor_rand2=torch.rand((1,7))\n",
        "mul=torch.matmul(tensor_rand,tensor_rand2.T)\n",
        "mul, mul.shape"
      ],
      "metadata": {
        "colab": {
          "base_uri": "https://localhost:8080/"
        },
        "id": "S9_WKYxIvX_7",
        "outputId": "6263b66d-21ad-457d-b1b6-70f90bfa73e0"
      },
      "execution_count": 49,
      "outputs": [
        {
          "output_type": "execute_result",
          "data": {
            "text/plain": [
              "(tensor([[1.9311],\n",
              "         [1.6216],\n",
              "         [1.7869],\n",
              "         [1.5387],\n",
              "         [1.6650],\n",
              "         [1.7436],\n",
              "         [1.6029]]),\n",
              " torch.Size([7, 1]))"
            ]
          },
          "metadata": {},
          "execution_count": 49
        }
      ]
    },
    {
      "cell_type": "code",
      "source": [
        "# Set random seed on the GPU\n",
        "torch.cuda.manual_seed(1234)"
      ],
      "metadata": {
        "id": "KvzIVa2Zvufo"
      },
      "execution_count": 50,
      "outputs": []
    },
    {
      "cell_type": "code",
      "source": [
        "#ex-6\n",
        "torch.cuda.manual_seed(1234)\n",
        "ran1=torch.rand(2,3)\n",
        "ran2=torch.rand(2,3)\n",
        "ran1=ran1.to(device)\n",
        "ran2=ran2.to(device)\n",
        "print(ran1, ran2)"
      ],
      "metadata": {
        "colab": {
          "base_uri": "https://localhost:8080/"
        },
        "id": "G1pSgT7vwpoY",
        "outputId": "58583793-ddb5-468a-8bf3-c974c37cb67f"
      },
      "execution_count": 51,
      "outputs": [
        {
          "output_type": "stream",
          "name": "stdout",
          "text": [
            "tensor([[0.6192, 0.5123, 0.6050],\n",
            "        [0.1243, 0.2325, 0.2650]], device='cuda:0') tensor([[0.2171, 0.5887, 0.5999],\n",
            "        [0.2923, 0.8259, 0.2218]], device='cuda:0')\n"
          ]
        }
      ]
    },
    {
      "cell_type": "code",
      "source": [
        "#ex-7\n",
        "mul=torch.matmul(ran1,ran2.T)\n",
        "mul"
      ],
      "metadata": {
        "colab": {
          "base_uri": "https://localhost:8080/"
        },
        "id": "miRQoCG5ys4n",
        "outputId": "ac9c255c-d763-4587-80d0-68fda0b997f3"
      },
      "execution_count": 52,
      "outputs": [
        {
          "output_type": "execute_result",
          "data": {
            "text/plain": [
              "tensor([[0.7989, 0.7383],\n",
              "        [0.3228, 0.2871]], device='cuda:0')"
            ]
          },
          "metadata": {},
          "execution_count": 52
        }
      ]
    },
    {
      "cell_type": "code",
      "source": [
        "#ex-8\n",
        "mul.max(), mul.min()"
      ],
      "metadata": {
        "colab": {
          "base_uri": "https://localhost:8080/"
        },
        "id": "SEDVqHUNy-a6",
        "outputId": "777b09d5-f24c-4db7-d3a9-a918666ffcfe"
      },
      "execution_count": 53,
      "outputs": [
        {
          "output_type": "execute_result",
          "data": {
            "text/plain": [
              "(tensor(0.7989, device='cuda:0'), tensor(0.2871, device='cuda:0'))"
            ]
          },
          "metadata": {},
          "execution_count": 53
        }
      ]
    },
    {
      "cell_type": "code",
      "source": [
        "#ex-9\n",
        "mul.argmax(), mul.argmin()"
      ],
      "metadata": {
        "colab": {
          "base_uri": "https://localhost:8080/"
        },
        "id": "ppJFhRes0X22",
        "outputId": "5813458f-f3ff-429d-9a3c-554add0cb560"
      },
      "execution_count": 54,
      "outputs": [
        {
          "output_type": "execute_result",
          "data": {
            "text/plain": [
              "(tensor(1, device='cuda:0'), tensor(2, device='cuda:0'))"
            ]
          },
          "metadata": {},
          "execution_count": 37
        },
        {
          "output_type": "execute_result",
          "data": {
            "text/plain": [
              "(tensor(0, device='cuda:0'), tensor(3, device='cuda:0'))"
            ]
          },
          "metadata": {},
          "execution_count": 54
        }
      ]
    },
    {
      "cell_type": "code",
      "source": [
        "#ex-10\n",
        "random_seed=7\n",
        "tensor=torch.rand(1,1,1,10)\n",
        "torch.manual_seed(random_seed)\n",
        "new_tensor=tensor[0][0][0][:]\n",
        "new_tensor, new_tensor.size"
      ],
      "metadata": {
        "colab": {
          "base_uri": "https://localhost:8080/"
        },
        "id": "wRW-rMF104pb",
        "outputId": "39897811-a5ea-477e-cf19-c2c088f7d99c"
      },
      "execution_count": 55,
      "outputs": [
        {
          "output_type": "execute_result",
          "data": {
            "text/plain": [
              "(tensor([0.5349, 0.1988, 0.6592, 0.6569, 0.2328, 0.4251, 0.2071, 0.6297, 0.3653,\n",
              "         0.8513]),\n",
              " torch.Size([10]))"
            ]
          },
          "metadata": {},
          "execution_count": 36
        },
        {
          "output_type": "execute_result",
          "data": {
            "text/plain": [
              "(tensor([0.6009, 0.3572, 0.0663, 0.1744, 0.7042, 0.6979, 0.1908, 0.3441, 0.0326,\n",
              "         0.7688]),\n",
              " <function Tensor.size>)"
            ]
          },
          "metadata": {},
          "execution_count": 55
        }
      ]
    }
  ]
}