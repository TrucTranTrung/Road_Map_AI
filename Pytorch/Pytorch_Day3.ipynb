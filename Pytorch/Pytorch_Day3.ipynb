{
  "nbformat": 4,
  "nbformat_minor": 0,
  "metadata": {
    "colab": {
      "provenance": []
    },
    "kernelspec": {
      "name": "python3",
      "display_name": "Python 3"
    },
    "language_info": {
      "name": "python"
    }
  },
  "cells": [
    {
      "cell_type": "markdown",
      "source": [
        "### **Pytorch Fundamental**"
      ],
      "metadata": {
        "id": "BKEuF_7HrTJx"
      }
    },
    {
      "cell_type": "code",
      "execution_count": 1,
      "metadata": {
        "colab": {
          "base_uri": "https://localhost:8080/"
        },
        "id": "GeWJ-tnslXTc",
        "outputId": "efe4db8c-bac9-43b9-b92b-21b1f4ba7322"
      },
      "outputs": [
        {
          "output_type": "stream",
          "name": "stdout",
          "text": [
            "/bin/bash: line 1: nvidia-smi: command not found\n"
          ]
        }
      ],
      "source": [
        "!nvidia-smi"
      ]
    },
    {
      "cell_type": "code",
      "source": [
        "import torch\n",
        "import numpy as np\n",
        "import pandas as pd\n",
        "import matplotlib.pyplot as plt\n",
        "print(torch.__version__)"
      ],
      "metadata": {
        "colab": {
          "base_uri": "https://localhost:8080/"
        },
        "id": "S4L9-Omerjf2",
        "outputId": "41f4bd85-c5e3-4d4f-92c7-d091a50393c9"
      },
      "execution_count": 2,
      "outputs": [
        {
          "output_type": "stream",
          "name": "stdout",
          "text": [
            "2.3.1+cu121\n"
          ]
        }
      ]
    },
    {
      "cell_type": "markdown",
      "source": [
        "## **Day 3**"
      ],
      "metadata": {
        "id": "fHBAGDca7l7p"
      }
    },
    {
      "cell_type": "code",
      "source": [
        "ma1=torch.rand(3,4)\n",
        "ma2=torch.rand(4,3)"
      ],
      "metadata": {
        "id": "grTVn6wCIXDw"
      },
      "execution_count": 3,
      "outputs": []
    },
    {
      "cell_type": "code",
      "source": [
        "# Matrix Multiply\n",
        "multi=torch.matmul(ma1,ma2)\n",
        "multi.shape"
      ],
      "metadata": {
        "colab": {
          "base_uri": "https://localhost:8080/"
        },
        "id": "pFIOYqKaJRhi",
        "outputId": "48b63363-5833-44f1-e827-de0d5f85e320"
      },
      "execution_count": 6,
      "outputs": [
        {
          "output_type": "execute_result",
          "data": {
            "text/plain": [
              "torch.Size([3, 3])"
            ]
          },
          "metadata": {},
          "execution_count": 6
        }
      ]
    },
    {
      "cell_type": "code",
      "source": [
        "tensorA=torch.tensor([[1,2,3],\n",
        "                      [4,5,6],\n",
        "                      [7,8,9]])\n",
        "tensorB=torch.tensor([[10,11,12],\n",
        "                      [13,14,15]])\n",
        "mul=torch.matmul(tensorA,tensorB.T)\n",
        "mul"
      ],
      "metadata": {
        "colab": {
          "base_uri": "https://localhost:8080/"
        },
        "id": "vSHbL21YK4xI",
        "outputId": "54b125fe-a197-4a66-ca8c-c073ffaa243f"
      },
      "execution_count": 8,
      "outputs": [
        {
          "output_type": "execute_result",
          "data": {
            "text/plain": [
              "tensor([[ 68,  86],\n",
              "        [167, 212],\n",
              "        [266, 338]])"
            ]
          },
          "metadata": {},
          "execution_count": 8
        }
      ]
    },
    {
      "cell_type": "code",
      "source": [
        "# Min, Max, Mean, Sum, etc....\n",
        "x=torch.arange(0,100,10)\n",
        "x"
      ],
      "metadata": {
        "colab": {
          "base_uri": "https://localhost:8080/"
        },
        "id": "7l_lROOSMuja",
        "outputId": "c190f181-17b9-4c0e-803b-fc5736d3830f"
      },
      "execution_count": 33,
      "outputs": [
        {
          "output_type": "execute_result",
          "data": {
            "text/plain": [
              "tensor([ 0, 10, 20, 30, 40, 50, 60, 70, 80, 90])"
            ]
          },
          "metadata": {},
          "execution_count": 33
        }
      ]
    },
    {
      "cell_type": "code",
      "source": [
        "# Find Min\n",
        "torch.min(x), x.min()"
      ],
      "metadata": {
        "colab": {
          "base_uri": "https://localhost:8080/"
        },
        "id": "dZRVD485NBcS",
        "outputId": "594383ce-8e18-4d3f-adb8-b2b2c9c12e09"
      },
      "execution_count": 10,
      "outputs": [
        {
          "output_type": "execute_result",
          "data": {
            "text/plain": [
              "(tensor(0), tensor(0))"
            ]
          },
          "metadata": {},
          "execution_count": 10
        }
      ]
    },
    {
      "cell_type": "code",
      "source": [
        "# Find Max\n",
        "torch.max(x), x.max()"
      ],
      "metadata": {
        "colab": {
          "base_uri": "https://localhost:8080/"
        },
        "id": "aZWS9zHSNQtH",
        "outputId": "633c2005-b13d-487d-f640-f632d9c25982"
      },
      "execution_count": 11,
      "outputs": [
        {
          "output_type": "execute_result",
          "data": {
            "text/plain": [
              "(tensor(100), tensor(100))"
            ]
          },
          "metadata": {},
          "execution_count": 11
        }
      ]
    },
    {
      "cell_type": "code",
      "source": [
        "# Find Mean\n",
        "torch.mean(x.type(torch.float32)), x.type(torch.float32).mean() # Convert to float 32 because mean dont run in Long type"
      ],
      "metadata": {
        "colab": {
          "base_uri": "https://localhost:8080/"
        },
        "id": "Un05jZCfNU3h",
        "outputId": "d06d7566-654a-4c28-dbfa-c8809bec5abb"
      },
      "execution_count": 12,
      "outputs": [
        {
          "output_type": "execute_result",
          "data": {
            "text/plain": [
              "(tensor(50.), tensor(50.))"
            ]
          },
          "metadata": {},
          "execution_count": 12
        }
      ]
    },
    {
      "cell_type": "code",
      "source": [
        "# Find Sum\n",
        "torch.sum(x), x.sum()"
      ],
      "metadata": {
        "colab": {
          "base_uri": "https://localhost:8080/"
        },
        "id": "OwNKldB5NrlG",
        "outputId": "cf49c40b-4d49-4514-ad3e-7772920ea127"
      },
      "execution_count": 13,
      "outputs": [
        {
          "output_type": "execute_result",
          "data": {
            "text/plain": [
              "(tensor(550), tensor(550))"
            ]
          },
          "metadata": {},
          "execution_count": 13
        }
      ]
    },
    {
      "cell_type": "code",
      "source": [
        "# Find location MIN/MAX\n",
        "x.argmin(), x.argmax()"
      ],
      "metadata": {
        "colab": {
          "base_uri": "https://localhost:8080/"
        },
        "id": "k4n5nT-0Oqpu",
        "outputId": "1a3c66b7-eed0-4b35-98e5-429fc2d22587"
      },
      "execution_count": 14,
      "outputs": [
        {
          "output_type": "execute_result",
          "data": {
            "text/plain": [
              "(tensor(0), tensor(10))"
            ]
          },
          "metadata": {},
          "execution_count": 14
        }
      ]
    },
    {
      "cell_type": "code",
      "source": [
        "# Add extra dimension\n",
        "x_reshaped=x.reshape(1,10)\n",
        "x_reshaped2=x.reshape(2,5)\n",
        "x_reshaped3=x.reshape(10,1)\n",
        "print(x_reshaped)\n",
        "print(x_reshaped2)\n",
        "print(x_reshaped3)"
      ],
      "metadata": {
        "colab": {
          "base_uri": "https://localhost:8080/"
        },
        "id": "wMAQMY_-PwqH",
        "outputId": "ea149cfb-50ae-4987-89a4-384d93a2a4e6"
      },
      "execution_count": 22,
      "outputs": [
        {
          "output_type": "stream",
          "name": "stdout",
          "text": [
            "tensor([[ 0, 10, 20, 30, 40, 50, 60, 70, 80, 90]])\n",
            "tensor([[ 0, 10, 20, 30, 40],\n",
            "        [50, 60, 70, 80, 90]])\n",
            "tensor([[ 0],\n",
            "        [10],\n",
            "        [20],\n",
            "        [30],\n",
            "        [40],\n",
            "        [50],\n",
            "        [60],\n",
            "        [70],\n",
            "        [80],\n",
            "        [90]])\n"
          ]
        }
      ]
    },
    {
      "cell_type": "code",
      "source": [
        "# Change the view\n",
        "z=x.view(10,1)\n",
        "z"
      ],
      "metadata": {
        "colab": {
          "base_uri": "https://localhost:8080/"
        },
        "id": "fvtirgkUQuVG",
        "outputId": "c3a0ecc5-33d1-4328-e8af-2ed14c500dec"
      },
      "execution_count": 34,
      "outputs": [
        {
          "output_type": "execute_result",
          "data": {
            "text/plain": [
              "tensor([[ 0],\n",
              "        [10],\n",
              "        [20],\n",
              "        [30],\n",
              "        [40],\n",
              "        [50],\n",
              "        [60],\n",
              "        [70],\n",
              "        [80],\n",
              "        [90]])"
            ]
          },
          "metadata": {},
          "execution_count": 34
        }
      ]
    },
    {
      "cell_type": "code",
      "source": [
        "# Changing Z changes X (share memory)\n",
        "z[:,-1]=5\n",
        "x"
      ],
      "metadata": {
        "colab": {
          "base_uri": "https://localhost:8080/"
        },
        "id": "kRVScIfqQ0eW",
        "outputId": "5e5f2d17-8444-4ebe-a18c-5c5cc7f1382e"
      },
      "execution_count": 35,
      "outputs": [
        {
          "output_type": "execute_result",
          "data": {
            "text/plain": [
              "tensor([5, 5, 5, 5, 5, 5, 5, 5, 5, 5])"
            ]
          },
          "metadata": {},
          "execution_count": 35
        }
      ]
    },
    {
      "cell_type": "code",
      "source": [
        "# Squeeze (remove single dimension in all tensor)\n",
        "x_sq=x.squeeze()\n",
        "x_sq.shape"
      ],
      "metadata": {
        "colab": {
          "base_uri": "https://localhost:8080/"
        },
        "id": "eKKI_AmyRm_O",
        "outputId": "40211bbd-c3bc-4f86-ab12-fbd4379b15ca"
      },
      "execution_count": 36,
      "outputs": [
        {
          "output_type": "execute_result",
          "data": {
            "text/plain": [
              "torch.Size([10])"
            ]
          },
          "metadata": {},
          "execution_count": 36
        }
      ]
    },
    {
      "cell_type": "code",
      "source": [
        "# Unsqueeze (Add a single dimentsion to a target tensor)\n",
        "print(f\"tensor shape: {x_sq.shape}\")\n",
        "print(f\"tensor : {x_sq.unsqueeze(dim=1).shape}\")"
      ],
      "metadata": {
        "colab": {
          "base_uri": "https://localhost:8080/"
        },
        "id": "Lb2Nnn07SlAa",
        "outputId": "54297545-ff01-4c42-c903-9e7f5e8db439"
      },
      "execution_count": 44,
      "outputs": [
        {
          "output_type": "stream",
          "name": "stdout",
          "text": [
            "tensor shape: torch.Size([10])\n",
            "tensor : torch.Size([10, 1])\n"
          ]
        }
      ]
    },
    {
      "cell_type": "code",
      "source": [
        "# Permute - rearange the tensor (view: share memory)\n",
        "x=torch.rand(22,22,3)\n",
        "per=x.permute(2,1,0)\n",
        "per.shape"
      ],
      "metadata": {
        "colab": {
          "base_uri": "https://localhost:8080/"
        },
        "id": "lhLJHpeYTu7U",
        "outputId": "8f799537-5712-48c4-fc8b-25e94747bcb7"
      },
      "execution_count": 47,
      "outputs": [
        {
          "output_type": "execute_result",
          "data": {
            "text/plain": [
              "torch.Size([3, 22, 22])"
            ]
          },
          "metadata": {},
          "execution_count": 47
        }
      ]
    }
  ]
}